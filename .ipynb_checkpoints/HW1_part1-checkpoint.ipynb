{
 "cells": [
  {
   "cell_type": "markdown",
   "metadata": {},
   "source": [
    "# Discussion Forum data analysis"
   ]
  },
  {
   "cell_type": "code",
   "execution_count": 1,
   "metadata": {},
   "outputs": [],
   "source": [
    "import json\n",
    "import operator\n",
    "import pandas as pd"
   ]
  },
  {
   "cell_type": "markdown",
   "metadata": {},
   "source": [
    "## Load data"
   ]
  },
  {
   "cell_type": "code",
   "execution_count": 23,
   "metadata": {},
   "outputs": [
    {
     "name": "stdout",
     "output_type": "stream",
     "text": [
      "Total number of new posts: 1759\n"
     ]
    }
   ],
   "source": [
    "dataTitle = []\n",
    "dataHouse = json.load(open('houseplantsNew.json', 'r'))\n",
    "for key, value in dataHouse.items():\n",
    "    dataTitle.append(value[\"Title\"])\n",
    "dataIndoor = json.load(open('IndoorGardenNew.json', 'r'))\n",
    "for key, value in dataIndoor.items():\n",
    "    dataTitle.append(value[\"Title\"])\n",
    "titleNum = len(dataTitle)\n",
    "print(\"Total number of new posts:\", titleNum)"
   ]
  },
  {
   "cell_type": "markdown",
   "metadata": {},
   "source": [
    "## Find out how many times participants ask for help in identifying a plant. "
   ]
  },
  {
   "cell_type": "code",
   "execution_count": 25,
   "metadata": {},
   "outputs": [
    {
     "name": "stdout",
     "output_type": "stream",
     "text": [
      "Possible titles:  [1, 8, 21, 32, 36, 40, 43, 47, 48, 49, 50, 51, 56, 58, 62, 63, 101, 102, 107, 109, 113, 118, 120, 121, 126, 127, 130, 140, 176, 197, 207, 213, 217, 219, 221, 225, 236, 239, 241, 247, 249, 261, 277, 296, 302, 306, 307, 339, 354, 361, 364, 369, 375, 381, 386, 388, 416, 450, 452, 459, 462, 463, 466, 497, 499, 501, 505, 510, 526, 533, 534, 545, 548, 550, 560, 562, 565, 566, 576, 582, 590, 619, 620, 623, 626, 629, 634, 642, 645, 663, 664, 665, 674, 683, 699, 702, 703, 707, 708, 715, 716, 722, 725, 736, 745, 751, 755, 757, 758, 764, 768, 778, 784, 795, 799, 804, 805, 827, 829, 833, 844, 849, 850, 857, 860, 869, 870, 873, 874, 877, 882, 885, 895, 914, 919, 922, 924, 925, 936, 940, 946, 958, 960, 965, 967, 982, 984, 991, 1007, 1009, 1011, 1018, 1028, 1029, 1056, 1057, 1059, 1063, 1068, 1070, 1076, 1079, 1080, 1100, 1106, 1107, 1123, 1126, 1130, 1133, 1140, 1145, 1161, 1163, 1170, 1179, 1192, 1205, 1217, 1230, 1238, 1239, 1244, 1250, 1272, 1288, 1304, 1310, 1313, 1317, 1331, 1334, 1336, 1340, 1347, 1352, 1357, 1360, 1364, 1368, 1376, 1380, 1391, 1401, 1406, 1435, 1443, 1455, 1460, 1462, 1463, 1468, 1476, 1493, 1500, 1508, 1516, 1521, 1543, 1545, 1546, 1555, 1559, 1564, 1565, 1575, 1588, 1597, 1605, 1607, 1609, 1615, 1627, 1638, 1641, 1648, 1649, 1653, 1670, 1676, 1678, 1680, 1694, 1730, 1737, 1742]\n"
     ]
    }
   ],
   "source": [
    "#TODO\n",
    "possibleTitle = []\n",
    "for i in range(titleNum):\n",
    "    if (\"what\" in dataTitle[i]) or (\"What\" in dataTitle[i]) or (\"know\" in dataTitle[i]):\n",
    "        possibleTitle.append(dataTitle[i])\n",
    "        \n",
    "print(\"Possible titles: \", len(possibleTitle), possibleTitle)"
   ]
  },
  {
   "cell_type": "markdown",
   "metadata": {},
   "source": [
    "## Q3: We say that a user is \"outstanding\" if it makes the number of tips six standard-derivations more than an average user. (That is, #tips from a user >= average #tips of all users + 6*std of #tips of all users). How many outstanding users are there?"
   ]
  },
  {
   "cell_type": "code",
   "execution_count": 4,
   "metadata": {},
   "outputs": [
    {
     "name": "stdout",
     "output_type": "stream",
     "text": [
      "Q3:\t 1055\n"
     ]
    }
   ],
   "source": [
    "#TODO\n",
    "userDic = {}\n",
    "numList = []\n",
    "outstandingNum = 0\n",
    "for i in range(entriesNum):\n",
    "    if data[i][\"user_id\"] in userDic:\n",
    "        userDic[data[i][\"user_id\"]] += 1\n",
    "    else:\n",
    "        userDic[data[i][\"user_id\"]] = 1\n",
    "valueList=list(userDic.values())\n",
    "s = pd.Series(valueList) \n",
    "mean = s.mean()\n",
    "std = s.std()\n",
    "threshold = mean + 6*std\n",
    "for i in userDic:\n",
    "    if userDic[i] >= threshold:\n",
    "            outstandingNum += 1\n",
    "print(\"Q3:\\t\", outstandingNum)"
   ]
  },
  {
   "cell_type": "markdown",
   "metadata": {},
   "source": [
    "## Q4:  What is the name of the location with the most number of tips? (Hint: you may need to join multiple JSON files using pandas)"
   ]
  },
  {
   "cell_type": "code",
   "execution_count": 5,
   "metadata": {},
   "outputs": [
    {
     "name": "stdout",
     "output_type": "stream",
     "text": [
      "Q4:\t McCarran International Airport\n"
     ]
    }
   ],
   "source": [
    "#TODO\n",
    "busiDic = {}\n",
    "for i in range(entriesNum):\n",
    "    if data[i][\"business_id\"] in busiDic:\n",
    "        busiDic[data[i][\"business_id\"]] += 1\n",
    "    else:\n",
    "        busiDic[data[i][\"business_id\"]] = 1\n",
    "busiID = max(busiDic.items(), key=operator.itemgetter(1))[0]\n",
    "dataBusi = []\n",
    "for line in open('yelp_academic_dataset_business.json', 'r',encoding='utf-8'):\n",
    "    dataBusi.append(json.loads(line))\n",
    "for i in range(len(dataBusi)):\n",
    "    if dataBusi[i][\"business_id\"] == busiID:\n",
    "        print(\"Q4:\\t\", dataBusi[i][\"name\"])"
   ]
  },
  {
   "cell_type": "markdown",
   "metadata": {},
   "source": [
    "## Q5: In the above location, which hour has the least number of tips submitted? (Hint: the answer should be an integer from [0, 23])"
   ]
  },
  {
   "cell_type": "code",
   "execution_count": 6,
   "metadata": {},
   "outputs": [
    {
     "name": "stdout",
     "output_type": "stream",
     "text": [
      "Q5:\t 09\n"
     ]
    }
   ],
   "source": [
    "#TODO\n",
    "hourDic = {}\n",
    "for i in range(entriesNum):\n",
    "    if data[i][\"business_id\"] == busiID:\n",
    "        # Extract hour\n",
    "        hour = data[i][\"date\"][11:13]\n",
    "        if hour in hourDic:\n",
    "            hourDic[hour] += 1\n",
    "        else:\n",
    "            hourDic[hour] = 1\n",
    "leastTipHour = min(hourDic.items(), key=operator.itemgetter(1))[0]\n",
    "print(\"Q5:\\t\", leastTipHour)\n"
   ]
  },
  {
   "cell_type": "code",
   "execution_count": 13,
   "metadata": {},
   "outputs": [
    {
     "name": "stdout",
     "output_type": "stream",
     "text": [
      "{'business_id': 'Yzvjg0SayhoZgCljUJRF9Q', 'name': 'Carlos Santo, NMD', 'address': '8880 E Via Linda, Ste 107', 'city': 'Scottsdale', 'state': 'AZ', 'postal_code': '85258', 'latitude': 33.5694041, 'longitude': -111.8902637, 'stars': 5.0, 'review_count': 4, 'is_open': 1, 'attributes': {'GoodForKids': 'True', 'ByAppointmentOnly': 'True'}, 'categories': 'Health & Medical, Fitness & Instruction, Yoga, Active Life, Pilates', 'hours': None} 60803\n"
     ]
    }
   ],
   "source": [
    "# # Get  Arizona data\n",
    "# dataAZ = []\n",
    "# for i in range(len(dataBusi)):\n",
    "#     if dataBusi[i][\"state\"] == \"AZ\":\n",
    "#         dataAZ.append(dataBusi[i])\n",
    "# with open('Arizona_business_record.json', 'w') as outfile:\n",
    "#     json.dump(dataAZ, outfile)\n",
    "# print(dataAZ[0],len(dataAZ))"
   ]
  },
  {
   "cell_type": "code",
   "execution_count": null,
   "metadata": {},
   "outputs": [],
   "source": []
  }
 ],
 "metadata": {
  "kernelspec": {
   "display_name": "Python 3",
   "language": "python",
   "name": "python3"
  },
  "language_info": {
   "codemirror_mode": {
    "name": "ipython",
    "version": 3
   },
   "file_extension": ".py",
   "mimetype": "text/x-python",
   "name": "python",
   "nbconvert_exporter": "python",
   "pygments_lexer": "ipython3",
   "version": "3.9.1"
  }
 },
 "nbformat": 4,
 "nbformat_minor": 4
}
